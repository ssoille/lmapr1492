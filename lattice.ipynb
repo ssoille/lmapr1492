{
 "cells": [
  {
   "cell_type": "code",
   "execution_count": 83,
   "metadata": {},
   "outputs": [],
   "source": [
    "from pymatgen.io.cif import CifWriter\n",
    "from pymatgen.ext.matproj import MPRester\n",
    "from pymatgen.symmetry.analyzer import SpacegroupAnalyzer "
   ]
  },
  {
   "cell_type": "code",
   "execution_count": 84,
   "metadata": {},
   "outputs": [],
   "source": [
    "m = MPRester(\"hzUX5FwAxRKy1v6G\")\n",
    "structure = m.get_structure_by_material_id(\"mp-10778\")\n",
    "CifWriter(structure,0.1, write_magmoms=False).write_file(\"mp-10778.cif\")"
   ]
  },
  {
   "cell_type": "code",
   "execution_count": 90,
   "metadata": {},
   "outputs": [],
   "source": [
    "analyzer = SpacegroupAnalyzer(structure)"
   ]
  },
  {
   "cell_type": "markdown",
   "metadata": {},
   "source": [
    "# Vecteurs réseau direct:"
   ]
  },
  {
   "cell_type": "code",
   "execution_count": 91,
   "metadata": {
    "scrolled": false
   },
   "outputs": [
    {
     "name": "stdout",
     "output_type": "stream",
     "text": [
      "a = \t 8.425884515518355\n",
      "b = \t 8.425884515518355\n",
      "c = \t 8.425885079973796\n",
      "angles (alpha,beta,gamma):\n",
      "(30.379427254362703, 30.379427254362703, 30.379428429808254)\n"
     ]
    }
   ],
   "source": [
    "par_direct = structure.lattice.parameters\n",
    "print(\"a = \\t\",par_direct[0])\n",
    "print(\"b = \\t\",par_direct[1])\n",
    "print(\"c = \\t\",par_direct[2])\n",
    "print(\"angles (alpha,beta,gamma):\")\n",
    "print(a.angles)"
   ]
  },
  {
   "cell_type": "markdown",
   "metadata": {},
   "source": [
    "# Vecteurs réseau réciproque:"
   ]
  },
  {
   "cell_type": "code",
   "execution_count": 92,
   "metadata": {},
   "outputs": [
    {
     "name": "stdout",
     "output_type": "stream",
     "text": [
      "a* = \t 1.6637122083175133\n",
      "b* = \t 1.6637122083175133\n",
      "c* = \t 1.6637121550883482\n",
      "angles (alpha*,beta*,gamma*):\n",
      "(117.59014275610559, 117.59014275610559, 117.59013891900395)\n"
     ]
    }
   ],
   "source": [
    "par_recipro = structure.lattice.reciprocal_lattice.parameters\n",
    "print(\"a* = \\t\",par_recipro[0])\n",
    "print(\"b* = \\t\",par_recipro[1])\n",
    "print(\"c* = \\t\",par_recipro[2])\n",
    "print(\"angles (alpha*,beta*,gamma*):\")\n",
    "print(a.reciprocal_lattice.angles)"
   ]
  },
  {
   "cell_type": "markdown",
   "metadata": {},
   "source": [
    "# Type de maille et systéme cristallin:"
   ]
  },
  {
   "cell_type": "code",
   "execution_count": 93,
   "metadata": {
    "scrolled": true
   },
   "outputs": [
    {
     "name": "stdout",
     "output_type": "stream",
     "text": [
      "rhombohedral\n",
      "trigonal\n"
     ]
    }
   ],
   "source": [
    "print(analyzer.get_lattice_type())\n",
    "print(analyzer.get_crystal_system())"
   ]
  },
  {
   "cell_type": "markdown",
   "metadata": {},
   "source": [
    "# Groupe ponctuel:"
   ]
  },
  {
   "cell_type": "code",
   "execution_count": 94,
   "metadata": {},
   "outputs": [
    {
     "name": "stdout",
     "output_type": "stream",
     "text": [
      "-3m\n"
     ]
    }
   ],
   "source": [
    "print(analyzer.get_point_group_symbol())"
   ]
  }
 ],
 "metadata": {
  "kernelspec": {
   "display_name": "Python 3",
   "language": "python",
   "name": "python3"
  },
  "language_info": {
   "codemirror_mode": {
    "name": "ipython",
    "version": 3
   },
   "file_extension": ".py",
   "mimetype": "text/x-python",
   "name": "python",
   "nbconvert_exporter": "python",
   "pygments_lexer": "ipython3",
   "version": "3.8.5"
  }
 },
 "nbformat": 4,
 "nbformat_minor": 4
}
