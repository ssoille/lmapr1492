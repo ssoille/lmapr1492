{
 "cells": [
  {
   "cell_type": "code",
   "execution_count": 24,
   "id": "ignored-spelling",
   "metadata": {},
   "outputs": [],
   "source": [
    "from pymatgen.io.cif import CifWriter\n",
    "from pymatgen.ext.matproj import MPRester\n",
    "from pymatgen.symmetry.analyzer import SpacegroupAnalyzer \n",
    "from jupyter_jsmol.pymatgen import quick_view\n",
    "from pymatgen.core.operations import *"
   ]
  },
  {
   "cell_type": "code",
   "execution_count": 25,
   "id": "dietary-equation",
   "metadata": {},
   "outputs": [],
   "source": [
    "m = MPRester(\"hzUX5FwAxRKy1v6G\")\n",
    "structure = m.get_structure_by_material_id(\"mp-10778\")\n",
    "#Creation structure de base"
   ]
  },
  {
   "cell_type": "code",
   "execution_count": 26,
   "id": "adjusted-quebec",
   "metadata": {
    "scrolled": true
   },
   "outputs": [
    {
     "data": {
      "application/vnd.jupyter.widget-view+json": {
       "model_id": "f0071fc8d4fe4399b522c04d51cf769c",
       "version_major": 2,
       "version_minor": 0
      },
      "text/plain": [
       "JsmolView(layout=Layout(align_self='stretch', height='400px'))"
      ]
     },
     "metadata": {},
     "output_type": "display_data"
    }
   ],
   "source": [
    "view = quick_view(structure, \"packed\")\n",
    "display(view)\n",
    "#Visualisation de la structure primitive"
   ]
  },
  {
   "cell_type": "markdown",
   "id": "major-dressing",
   "metadata": {},
   "source": [
    "# Symétrie 1: operation symétrie (inversion) sur atome Pr situé en (0.5,0.5,0.5):"
   ]
  },
  {
   "cell_type": "code",
   "execution_count": 27,
   "id": "vocational-storm",
   "metadata": {
    "scrolled": false
   },
   "outputs": [
    {
     "data": {
      "application/vnd.jupyter.widget-view+json": {
       "model_id": "47cc35475fd34ffb976d362addb17f21",
       "version_major": 2,
       "version_minor": 0
      },
      "text/plain": [
       "JsmolView(layout=Layout(align_self='stretch', height='400px'))"
      ]
     },
     "metadata": {},
     "output_type": "display_data"
    },
    {
     "name": "stdout",
     "output_type": "stream",
     "text": [
      "Matrice: \n",
      " [[-1.  0.  0.]\n",
      " [ 0. -1.  0.]\n",
      " [ 0.  0. -1.]] \n",
      "\n",
      "Vecteur de translation:\n",
      " [0. 0. 0.] \n",
      "\n",
      "La symétrie d'inversion place l'atome Pr situé en [0.5, 0.5, 0.5] en [-0.5 -0.5 -0.5].\n"
     ]
    }
   ],
   "source": [
    "view = quick_view(structure, \"packed\")\n",
    "display(view)\n",
    "view.script(\"draw symop 7 {atomno=2}\")\n",
    "s1 = SymmOp.from_xyz_string(\"-x, -y, -z\")\n",
    "Pr = [0.5, 0.5, 0.5]\n",
    "Prs1 = s1.operate(Pr)\n",
    "print(\"Matrice: \\n\", s1.rotation_matrix, \"\\n\")\n",
    "print(\"Vecteur de translation:\\n\", s1.translation_vector, \"\\n\")\n",
    "print(\"La symétrie d'inversion place l'atome Pr situé en {} en {}.\".format(Pr,Prs1))"
   ]
  },
  {
   "cell_type": "markdown",
   "id": "charming-scheme",
   "metadata": {},
   "source": [
    "# Symétrie 2: operation de symétrie (rotation d'axe) sur atome Se situé en (0.23404,0.23404,0.23404):\n"
   ]
  },
  {
   "cell_type": "code",
   "execution_count": 28,
   "id": "actual-staff",
   "metadata": {},
   "outputs": [
    {
     "data": {
      "application/vnd.jupyter.widget-view+json": {
       "model_id": "32d53b875bfb4507b14495f4fcb1c3af",
       "version_major": 2,
       "version_minor": 0
      },
      "text/plain": [
       "JsmolView(layout=Layout(align_self='stretch', height='400px'))"
      ]
     },
     "metadata": {},
     "output_type": "display_data"
    },
    {
     "name": "stdout",
     "output_type": "stream",
     "text": [
      "Matrice de rotation:\n",
      " [[1. 0. 0.]\n",
      " [0. 0. 1.]\n",
      " [0. 1. 0.]] \n",
      "\n",
      "Vecteur de translation:\n",
      " [0. 0. 0.] \n",
      "\n",
      "La symétrie de rotation place l'atome Se situé en [0.23404, 0.23404, 0.23404] en [0.23404 0.23404 0.23404].\n"
     ]
    }
   ],
   "source": [
    "view = quick_view(structure, \"packed\")\n",
    "display(view)\n",
    "view.script(\"draw symop 4 {atomno=3}\")\n",
    "s2 = SymmOp.from_xyz_string(\"x, z, y\")\n",
    "Se = [0.23404, 0.23404, 0.23404]\n",
    "Ses2 = s2.operate(Se)\n",
    "print(\"Matrice de rotation:\\n\", s2.rotation_matrix, \"\\n\")\n",
    "print(\"Vecteur de translation:\\n\", s2.translation_vector, \"\\n\")\n",
    "print(\"La symétrie de rotation place l'atome Se situé en {} en {}.\".format(Se,Ses2))"
   ]
  },
  {
   "cell_type": "markdown",
   "id": "federal-training",
   "metadata": {},
   "source": [
    "# Symétrie 3: operation de symétrie (roto-inversion) sur atome Rb situé en (1.0,1.0,1.0):"
   ]
  },
  {
   "cell_type": "code",
   "execution_count": 29,
   "id": "optimum-allergy",
   "metadata": {},
   "outputs": [
    {
     "data": {
      "application/vnd.jupyter.widget-view+json": {
       "model_id": "382d46e76c01454d8c75aa439172eb8b",
       "version_major": 2,
       "version_minor": 0
      },
      "text/plain": [
       "JsmolView(layout=Layout(align_self='stretch', height='400px'))"
      ]
     },
     "metadata": {},
     "output_type": "display_data"
    },
    {
     "name": "stdout",
     "output_type": "stream",
     "text": [
      "Matrice:\n",
      " [[ 0. -1.  0.]\n",
      " [-1.  0.  0.]\n",
      " [ 0.  0. -1.]] \n",
      "\n",
      "Vecteur de translation:\n",
      " [0. 0. 0.] \n",
      "\n",
      "La symétrie de roto-inversion place l'atome Rb situé en [1.0, 1.0, 1.0] en [-1. -1. -1.].\n"
     ]
    }
   ],
   "source": [
    "view = quick_view(structure, \"packed\")\n",
    "display(view)\n",
    "view.script(\"draw symop 12 {atomno=1}\")\n",
    "s3 = SymmOp.from_xyz_string(\"-y, -x, -z\")\n",
    "Rb = [1.0000, 1.0000, 1.0000]\n",
    "Rbs3 = s3.operate(Rb)\n",
    "print(\"Matrice:\\n\", s3.rotation_matrix, \"\\n\")\n",
    "print(\"Vecteur de translation:\\n\", s3.translation_vector, \"\\n\")\n",
    "print(\"La symétrie de roto-inversion place l'atome Rb situé en {} en {}.\".format(Rb,Rbs3))"
   ]
  }
 ],
 "metadata": {
  "kernelspec": {
   "display_name": "Python 3",
   "language": "python",
   "name": "python3"
  },
  "language_info": {
   "codemirror_mode": {
    "name": "ipython",
    "version": 3
   },
   "file_extension": ".py",
   "mimetype": "text/x-python",
   "name": "python",
   "nbconvert_exporter": "python",
   "pygments_lexer": "ipython3",
   "version": "3.6.8"
  }
 },
 "nbformat": 4,
 "nbformat_minor": 5
}
